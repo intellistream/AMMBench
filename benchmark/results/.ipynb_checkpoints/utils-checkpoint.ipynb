{
 "cells": [
  {
   "cell_type": "markdown",
   "metadata": {},
   "source": [
    "### Check Unfinished Experiments"
   ]
  },
  {
   "cell_type": "code",
   "execution_count": 1,
   "metadata": {},
   "outputs": [],
   "source": [
    "dirToCheck = '/home/yuhao/Downloads/results'"
   ]
  },
  {
   "cell_type": "code",
   "execution_count": 2,
   "metadata": {},
   "outputs": [],
   "source": [
    "dataSetNames=['AST','BUS','DWAVE','ECO','QCD','RDB','UTM','ZENIOS']\n",
    "algosVec=['mm', 'crs', 'weighted-cr', 'countSketch', 'tugOfWar', 'smp-pca', 'rip', 'fastjlt', 'cooFD', 'blockLRA', 'vq', 'pq', 'int8', 'int8_fp32']"
   ]
  },
  {
   "cell_type": "code",
   "execution_count": 5,
   "metadata": {},
   "outputs": [
    {
     "data": {
      "text/plain": [
       "True"
      ]
     },
     "execution_count": 5,
     "metadata": {},
     "output_type": "execute_result"
    }
   ],
   "source": [
    "from itertools import product\n",
    "import glob\n",
    "subdirs = glob.glob(dirToCheck+'/*/')\n",
    "allResultPath = [\"\".join(t) for t in list(product(subdirs, algosVec, ['/'], dataSetNames, ['/result_streaming.csv']))]\n",
    "len(allResultPath) == 6*len(dataSetNames)*len(algosVec)"
   ]
  },
  {
   "cell_type": "code",
   "execution_count": 9,
   "metadata": {},
   "outputs": [
    {
     "name": "stdout",
     "output_type": "stream",
     "text": [
      "/home/yuhao/Downloads/results/AMME2E_1stream1static_eager/tugOfWar/AST/result_streaming.csv\n",
      "/home/yuhao/Downloads/results/AMME2E_1stream1static_eager/tugOfWar/BUS/result_streaming.csv\n",
      "/home/yuhao/Downloads/results/AMME2E_1stream1static_eager/tugOfWar/DWAVE/result_streaming.csv\n",
      "/home/yuhao/Downloads/results/AMME2E_1stream1static_eager/tugOfWar/ECO/result_streaming.csv\n",
      "/home/yuhao/Downloads/results/AMME2E_1stream1static_eager/tugOfWar/QCD/result_streaming.csv\n",
      "/home/yuhao/Downloads/results/AMME2E_1stream1static_eager/tugOfWar/RDB/result_streaming.csv\n",
      "/home/yuhao/Downloads/results/AMME2E_1stream1static_eager/tugOfWar/UTM/result_streaming.csv\n",
      "/home/yuhao/Downloads/results/AMME2E_1stream1static_eager/tugOfWar/ZENIOS/result_streaming.csv\n",
      "/home/yuhao/Downloads/results/AMME2E_1stream1static_eager/fastjlt/AST/result_streaming.csv\n",
      "/home/yuhao/Downloads/results/AMME2E_1stream1static_eager/fastjlt/BUS/result_streaming.csv\n",
      "/home/yuhao/Downloads/results/AMME2E_1stream1static_eager/fastjlt/DWAVE/result_streaming.csv\n",
      "/home/yuhao/Downloads/results/AMME2E_1stream1static_eager/fastjlt/ECO/result_streaming.csv\n",
      "/home/yuhao/Downloads/results/AMME2E_1stream1static_eager/fastjlt/QCD/result_streaming.csv\n",
      "/home/yuhao/Downloads/results/AMME2E_1stream1static_eager/fastjlt/RDB/result_streaming.csv\n",
      "/home/yuhao/Downloads/results/AMME2E_1stream1static_eager/fastjlt/UTM/result_streaming.csv\n",
      "/home/yuhao/Downloads/results/AMME2E_1stream1static_eager/fastjlt/ZENIOS/result_streaming.csv\n",
      "/home/yuhao/Downloads/results/AMME2E_1stream1static_eager/cooFD/AST/result_streaming.csv\n",
      "/home/yuhao/Downloads/results/AMME2E_1stream1static_eager/cooFD/BUS/result_streaming.csv\n",
      "/home/yuhao/Downloads/results/AMME2E_1stream1static_eager/cooFD/DWAVE/result_streaming.csv\n",
      "/home/yuhao/Downloads/results/AMME2E_1stream1static_eager/cooFD/ECO/result_streaming.csv\n",
      "/home/yuhao/Downloads/results/AMME2E_1stream1static_eager/cooFD/QCD/result_streaming.csv\n",
      "/home/yuhao/Downloads/results/AMME2E_1stream1static_eager/cooFD/RDB/result_streaming.csv\n",
      "/home/yuhao/Downloads/results/AMME2E_1stream1static_eager/cooFD/UTM/result_streaming.csv\n",
      "/home/yuhao/Downloads/results/AMME2E_1stream1static_eager/cooFD/ZENIOS/result_streaming.csv\n",
      "/home/yuhao/Downloads/results/AMME2E_1stream1static_eager/blockLRA/AST/result_streaming.csv\n",
      "/home/yuhao/Downloads/results/AMME2E_1stream1static_eager/blockLRA/BUS/result_streaming.csv\n",
      "/home/yuhao/Downloads/results/AMME2E_1stream1static_eager/blockLRA/DWAVE/result_streaming.csv\n",
      "/home/yuhao/Downloads/results/AMME2E_1stream1static_eager/blockLRA/ECO/result_streaming.csv\n",
      "/home/yuhao/Downloads/results/AMME2E_1stream1static_eager/blockLRA/QCD/result_streaming.csv\n",
      "/home/yuhao/Downloads/results/AMME2E_1stream1static_eager/blockLRA/RDB/result_streaming.csv\n",
      "/home/yuhao/Downloads/results/AMME2E_1stream1static_eager/blockLRA/UTM/result_streaming.csv\n",
      "/home/yuhao/Downloads/results/AMME2E_1stream1static_eager/blockLRA/ZENIOS/result_streaming.csv\n",
      "/home/yuhao/Downloads/results/AMME2E_1stream1static_eager/vq/AST/result_streaming.csv\n",
      "/home/yuhao/Downloads/results/AMME2E_1stream1static_eager/vq/BUS/result_streaming.csv\n",
      "/home/yuhao/Downloads/results/AMME2E_1stream1static_eager/vq/DWAVE/result_streaming.csv\n",
      "/home/yuhao/Downloads/results/AMME2E_1stream1static_eager/vq/ECO/result_streaming.csv\n",
      "/home/yuhao/Downloads/results/AMME2E_1stream1static_eager/vq/QCD/result_streaming.csv\n",
      "/home/yuhao/Downloads/results/AMME2E_1stream1static_eager/vq/RDB/result_streaming.csv\n",
      "/home/yuhao/Downloads/results/AMME2E_1stream1static_eager/vq/UTM/result_streaming.csv\n",
      "/home/yuhao/Downloads/results/AMME2E_1stream1static_eager/vq/ZENIOS/result_streaming.csv\n",
      "/home/yuhao/Downloads/results/AMME2E_1stream1static_eager/pq/AST/result_streaming.csv\n",
      "/home/yuhao/Downloads/results/AMME2E_1stream1static_eager/pq/BUS/result_streaming.csv\n",
      "/home/yuhao/Downloads/results/AMME2E_1stream1static_eager/pq/DWAVE/result_streaming.csv\n",
      "/home/yuhao/Downloads/results/AMME2E_1stream1static_eager/pq/ECO/result_streaming.csv\n",
      "/home/yuhao/Downloads/results/AMME2E_1stream1static_eager/pq/QCD/result_streaming.csv\n",
      "/home/yuhao/Downloads/results/AMME2E_1stream1static_eager/pq/RDB/result_streaming.csv\n",
      "/home/yuhao/Downloads/results/AMME2E_1stream1static_eager/pq/UTM/result_streaming.csv\n",
      "/home/yuhao/Downloads/results/AMME2E_1stream1static_eager/pq/ZENIOS/result_streaming.csv\n",
      "/home/yuhao/Downloads/results/AMME2E_2stream_eager/tugOfWar/AST/result_streaming.csv\n",
      "/home/yuhao/Downloads/results/AMME2E_2stream_eager/tugOfWar/BUS/result_streaming.csv\n",
      "/home/yuhao/Downloads/results/AMME2E_2stream_eager/tugOfWar/DWAVE/result_streaming.csv\n",
      "/home/yuhao/Downloads/results/AMME2E_2stream_eager/tugOfWar/ECO/result_streaming.csv\n",
      "/home/yuhao/Downloads/results/AMME2E_2stream_eager/tugOfWar/QCD/result_streaming.csv\n",
      "/home/yuhao/Downloads/results/AMME2E_2stream_eager/tugOfWar/RDB/result_streaming.csv\n",
      "/home/yuhao/Downloads/results/AMME2E_2stream_eager/tugOfWar/UTM/result_streaming.csv\n",
      "/home/yuhao/Downloads/results/AMME2E_2stream_eager/tugOfWar/ZENIOS/result_streaming.csv\n",
      "/home/yuhao/Downloads/results/AMME2E_2stream_eager/fastjlt/AST/result_streaming.csv\n",
      "/home/yuhao/Downloads/results/AMME2E_2stream_eager/fastjlt/BUS/result_streaming.csv\n",
      "/home/yuhao/Downloads/results/AMME2E_2stream_eager/fastjlt/DWAVE/result_streaming.csv\n",
      "/home/yuhao/Downloads/results/AMME2E_2stream_eager/fastjlt/ECO/result_streaming.csv\n",
      "/home/yuhao/Downloads/results/AMME2E_2stream_eager/fastjlt/QCD/result_streaming.csv\n",
      "/home/yuhao/Downloads/results/AMME2E_2stream_eager/fastjlt/RDB/result_streaming.csv\n",
      "/home/yuhao/Downloads/results/AMME2E_2stream_eager/fastjlt/UTM/result_streaming.csv\n",
      "/home/yuhao/Downloads/results/AMME2E_2stream_eager/fastjlt/ZENIOS/result_streaming.csv\n",
      "/home/yuhao/Downloads/results/AMME2E_2stream_eager/cooFD/AST/result_streaming.csv\n",
      "/home/yuhao/Downloads/results/AMME2E_2stream_eager/cooFD/BUS/result_streaming.csv\n",
      "/home/yuhao/Downloads/results/AMME2E_2stream_eager/cooFD/DWAVE/result_streaming.csv\n",
      "/home/yuhao/Downloads/results/AMME2E_2stream_eager/cooFD/ECO/result_streaming.csv\n",
      "/home/yuhao/Downloads/results/AMME2E_2stream_eager/cooFD/QCD/result_streaming.csv\n",
      "/home/yuhao/Downloads/results/AMME2E_2stream_eager/cooFD/RDB/result_streaming.csv\n",
      "/home/yuhao/Downloads/results/AMME2E_2stream_eager/cooFD/UTM/result_streaming.csv\n",
      "/home/yuhao/Downloads/results/AMME2E_2stream_eager/cooFD/ZENIOS/result_streaming.csv\n",
      "/home/yuhao/Downloads/results/AMME2E_2stream_eager/blockLRA/AST/result_streaming.csv\n",
      "/home/yuhao/Downloads/results/AMME2E_2stream_eager/blockLRA/BUS/result_streaming.csv\n",
      "/home/yuhao/Downloads/results/AMME2E_2stream_eager/blockLRA/DWAVE/result_streaming.csv\n",
      "/home/yuhao/Downloads/results/AMME2E_2stream_eager/blockLRA/ECO/result_streaming.csv\n",
      "/home/yuhao/Downloads/results/AMME2E_2stream_eager/blockLRA/QCD/result_streaming.csv\n",
      "/home/yuhao/Downloads/results/AMME2E_2stream_eager/blockLRA/RDB/result_streaming.csv\n",
      "/home/yuhao/Downloads/results/AMME2E_2stream_eager/blockLRA/UTM/result_streaming.csv\n",
      "/home/yuhao/Downloads/results/AMME2E_2stream_eager/blockLRA/ZENIOS/result_streaming.csv\n",
      "/home/yuhao/Downloads/results/AMME2E_2stream_eager/vq/AST/result_streaming.csv\n",
      "/home/yuhao/Downloads/results/AMME2E_2stream_eager/vq/BUS/result_streaming.csv\n",
      "/home/yuhao/Downloads/results/AMME2E_2stream_eager/vq/DWAVE/result_streaming.csv\n",
      "/home/yuhao/Downloads/results/AMME2E_2stream_eager/vq/ECO/result_streaming.csv\n",
      "/home/yuhao/Downloads/results/AMME2E_2stream_eager/vq/QCD/result_streaming.csv\n",
      "/home/yuhao/Downloads/results/AMME2E_2stream_eager/vq/RDB/result_streaming.csv\n",
      "/home/yuhao/Downloads/results/AMME2E_2stream_eager/vq/UTM/result_streaming.csv\n",
      "/home/yuhao/Downloads/results/AMME2E_2stream_eager/vq/ZENIOS/result_streaming.csv\n",
      "/home/yuhao/Downloads/results/AMME2E_2stream_eager/pq/AST/result_streaming.csv\n",
      "/home/yuhao/Downloads/results/AMME2E_2stream_eager/pq/BUS/result_streaming.csv\n",
      "/home/yuhao/Downloads/results/AMME2E_2stream_eager/pq/DWAVE/result_streaming.csv\n",
      "/home/yuhao/Downloads/results/AMME2E_2stream_eager/pq/ECO/result_streaming.csv\n",
      "/home/yuhao/Downloads/results/AMME2E_2stream_eager/pq/QCD/result_streaming.csv\n",
      "/home/yuhao/Downloads/results/AMME2E_2stream_eager/pq/RDB/result_streaming.csv\n",
      "/home/yuhao/Downloads/results/AMME2E_2stream_eager/pq/UTM/result_streaming.csv\n",
      "/home/yuhao/Downloads/results/AMME2E_2stream_eager/pq/ZENIOS/result_streaming.csv\n",
      "/home/yuhao/Downloads/results/AMME2E_2stream_eager/int8/BUS/result_streaming.csv\n"
     ]
    }
   ],
   "source": [
    "import os\n",
    "import sys\n",
    "for p in allResultPath:\n",
    "    if not os.path.exists(p):\n",
    "        print(p)"
   ]
  },
  {
   "cell_type": "code",
   "execution_count": 8,
   "metadata": {},
   "outputs": [
    {
     "data": {
      "text/plain": [
       "['/home/yuhao/Downloads/results/AMME2E_1stream1static_eager/',\n",
       " '/home/yuhao/Downloads/results/AMME2E_static_lazy/',\n",
       " '/home/yuhao/Downloads/results/AMME2E_2stream_lazy/',\n",
       " '/home/yuhao/Downloads/results/AMME2E_2stream_eager/',\n",
       " '/home/yuhao/Downloads/results/AMME2E_static_lazy_unnormalized/',\n",
       " '/home/yuhao/Downloads/results/AMME2E_1stream1static_lazy/']"
      ]
     },
     "execution_count": 8,
     "metadata": {},
     "output_type": "execute_result"
    }
   ],
   "source": [
    "[x] AMME2E_static_lazy: 8 datasets + 14 algo\n",
    "    - normalized\n",
    "    - unnormalized\n",
    "\n",
    "AMME2E_1stream1static_eager: \n",
    "\n",
    "AMME2E_2stream_lazy: \n",
    "AMME2E_2stream_eager: \n",
    "AMME2E_static_lazy_unnormalized: \n",
    "AMME2E_1stream1static_lazy: "
   ]
  },
  {
   "cell_type": "code",
   "execution_count": null,
   "metadata": {},
   "outputs": [],
   "source": []
  },
  {
   "cell_type": "code",
   "execution_count": null,
   "metadata": {},
   "outputs": [],
   "source": []
  },
  {
   "cell_type": "code",
   "execution_count": 7,
   "metadata": {},
   "outputs": [],
   "source": [
    "static_eager ()\n",
    "\n",
    "tugOfWar, fastJLT 给一个 AMME2E_1stream1static_eager，AMME2E_2stream_eager 的预估时间 （先把大的小的跑了）\n",
    "\n",
    "cooFD AMME2E_1stream1static_eager，AMME2E_2stream_eager failed\n",
    "blockLRA AMME2E_1stream1static_eager，AMME2E_2stream_eager 不适用\n",
    "\n",
    "vq，pq AMME2E_1stream1static_eager，AMME2E_2stream_eager 跑了吗？ -> 这里我们应该就load一次即可 不要每次都load\n",
    "\n",
    "vq AMME2E_static_lazy memory不够 （看清楚是谁的问题 别人的问题如实说 我们的问题就改bug）\n",
    "\n",
    "/home/yuhao/Downloads/results/AMME2E_2stream_eager/int8/BUS/result_streaming.csv\n",
    "/home/yuhao/Downloads/results/AMME2E_1stream1static_lazy/vq/BUS/result_streaming.csv\n",
    "\n",
    "为什么vq 2streamlazy可以？？"
   ]
  },
  {
   "cell_type": "code",
   "execution_count": null,
   "metadata": {},
   "outputs": [],
   "source": []
  },
  {
   "cell_type": "markdown",
   "metadata": {},
   "source": [
    "### Move Folders"
   ]
  },
  {
   "cell_type": "code",
   "execution_count": 1,
   "metadata": {},
   "outputs": [],
   "source": [
    "moveFrom = '/home/heyuhao/AMMBench/build/benchmark/results/results'"
   ]
  },
  {
   "cell_type": "code",
   "execution_count": 11,
   "metadata": {},
   "outputs": [
    {
     "name": "stdout",
     "output_type": "stream",
     "text": [
      "['/home/heyuhao/AMMBench/build/benchmark/results/results/AMME2E_2stream_lazy/countSketch/BUS', '/home/heyuhao/AMMBench/build/benchmark/results/results/AMME2E_2stream_lazy/smp-pca/BUS', '/home/heyuhao/AMMBench/build/benchmark/results/results/AMME2E_2stream_lazy/crs/BUS']\n"
     ]
    }
   ],
   "source": [
    "import os\n",
    "\n",
    "def get_folders_in_level(directory, level):\n",
    "    if level == 0:\n",
    "        return [directory]\n",
    "\n",
    "    folders = []\n",
    "    for root, _, _ in os.walk(directory):\n",
    "        if root.count(os.sep)-directory.count(os.sep) == level:\n",
    "            folders.append(root)\n",
    "    return folders\n",
    "\n",
    "root_directory = moveFrom\n",
    "level = 3\n",
    "\n",
    "folders_in_level = get_folders_in_level(root_directory, level)\n",
    "print(folders_in_level[:3])"
   ]
  },
  {
   "cell_type": "code",
   "execution_count": 15,
   "metadata": {},
   "outputs": [
    {
     "name": "stdout",
     "output_type": "stream",
     "text": [
      "/home/heyuhao/AMMBench/build/benchmark/results/results/AMME2E_2stream_lazy/countSketch/BUS\n",
      "/home/heyuhao/AMMBench/build/benchmark/results/resultsAll/AMME2E_2stream_lazy/countSketch/BUS\n",
      "/home/heyuhao/AMMBench/build/benchmark/results/results/AMME2E_2stream_lazy/smp-pca/BUS\n",
      "/home/heyuhao/AMMBench/build/benchmark/results/resultsAll/AMME2E_2stream_lazy/smp-pca/BUS\n",
      "/home/heyuhao/AMMBench/build/benchmark/results/results/AMME2E_2stream_lazy/crs/BUS\n",
      "/home/heyuhao/AMMBench/build/benchmark/results/resultsAll/AMME2E_2stream_lazy/crs/BUS\n",
      "/home/heyuhao/AMMBench/build/benchmark/results/results/AMME2E_2stream_lazy/mm/BUS\n",
      "/home/heyuhao/AMMBench/build/benchmark/results/resultsAll/AMME2E_2stream_lazy/mm/BUS\n",
      "/home/heyuhao/AMMBench/build/benchmark/results/results/AMME2E_2stream_lazy/int8/BUS\n",
      "/home/heyuhao/AMMBench/build/benchmark/results/resultsAll/AMME2E_2stream_lazy/int8/BUS\n",
      "/home/heyuhao/AMMBench/build/benchmark/results/results/AMME2E_2stream_lazy/rip/BUS\n",
      "/home/heyuhao/AMMBench/build/benchmark/results/resultsAll/AMME2E_2stream_lazy/rip/BUS\n",
      "/home/heyuhao/AMMBench/build/benchmark/results/results/AMME2E_2stream_lazy/cooFD/BUS\n",
      "/home/heyuhao/AMMBench/build/benchmark/results/resultsAll/AMME2E_2stream_lazy/cooFD/BUS\n",
      "/home/heyuhao/AMMBench/build/benchmark/results/results/AMME2E_2stream_lazy/blockLRA/BUS\n",
      "/home/heyuhao/AMMBench/build/benchmark/results/resultsAll/AMME2E_2stream_lazy/blockLRA/BUS\n",
      "/home/heyuhao/AMMBench/build/benchmark/results/results/AMME2E_2stream_lazy/tugOfWar/BUS\n",
      "/home/heyuhao/AMMBench/build/benchmark/results/resultsAll/AMME2E_2stream_lazy/tugOfWar/BUS\n",
      "/home/heyuhao/AMMBench/build/benchmark/results/results/AMME2E_2stream_lazy/weighted-cr/BUS\n",
      "/home/heyuhao/AMMBench/build/benchmark/results/resultsAll/AMME2E_2stream_lazy/weighted-cr/BUS\n",
      "/home/heyuhao/AMMBench/build/benchmark/results/results/AMME2E_2stream_lazy/fastjlt/BUS\n",
      "/home/heyuhao/AMMBench/build/benchmark/results/resultsAll/AMME2E_2stream_lazy/fastjlt/BUS\n",
      "/home/heyuhao/AMMBench/build/benchmark/results/results/AMME2E_1stream1static_lazy/countSketch/BUS\n",
      "/home/heyuhao/AMMBench/build/benchmark/results/resultsAll/AMME2E_1stream1static_lazy/countSketch/BUS\n",
      "/home/heyuhao/AMMBench/build/benchmark/results/results/AMME2E_1stream1static_lazy/smp-pca/BUS\n",
      "/home/heyuhao/AMMBench/build/benchmark/results/resultsAll/AMME2E_1stream1static_lazy/smp-pca/BUS\n",
      "/home/heyuhao/AMMBench/build/benchmark/results/results/AMME2E_1stream1static_lazy/crs/BUS\n",
      "/home/heyuhao/AMMBench/build/benchmark/results/resultsAll/AMME2E_1stream1static_lazy/crs/BUS\n",
      "/home/heyuhao/AMMBench/build/benchmark/results/results/AMME2E_1stream1static_lazy/mm/BUS\n",
      "/home/heyuhao/AMMBench/build/benchmark/results/resultsAll/AMME2E_1stream1static_lazy/mm/BUS\n",
      "/home/heyuhao/AMMBench/build/benchmark/results/results/AMME2E_1stream1static_lazy/int8/BUS\n",
      "/home/heyuhao/AMMBench/build/benchmark/results/resultsAll/AMME2E_1stream1static_lazy/int8/BUS\n",
      "/home/heyuhao/AMMBench/build/benchmark/results/results/AMME2E_1stream1static_lazy/rip/BUS\n",
      "/home/heyuhao/AMMBench/build/benchmark/results/resultsAll/AMME2E_1stream1static_lazy/rip/BUS\n",
      "/home/heyuhao/AMMBench/build/benchmark/results/results/AMME2E_1stream1static_lazy/cooFD/BUS\n",
      "/home/heyuhao/AMMBench/build/benchmark/results/resultsAll/AMME2E_1stream1static_lazy/cooFD/BUS\n",
      "/home/heyuhao/AMMBench/build/benchmark/results/results/AMME2E_1stream1static_lazy/blockLRA/BUS\n",
      "/home/heyuhao/AMMBench/build/benchmark/results/resultsAll/AMME2E_1stream1static_lazy/blockLRA/BUS\n",
      "/home/heyuhao/AMMBench/build/benchmark/results/results/AMME2E_1stream1static_lazy/tugOfWar/BUS\n",
      "/home/heyuhao/AMMBench/build/benchmark/results/resultsAll/AMME2E_1stream1static_lazy/tugOfWar/BUS\n",
      "/home/heyuhao/AMMBench/build/benchmark/results/results/AMME2E_1stream1static_lazy/weighted-cr/BUS\n",
      "/home/heyuhao/AMMBench/build/benchmark/results/resultsAll/AMME2E_1stream1static_lazy/weighted-cr/BUS\n",
      "/home/heyuhao/AMMBench/build/benchmark/results/results/AMME2E_1stream1static_lazy/fastjlt/BUS\n",
      "/home/heyuhao/AMMBench/build/benchmark/results/resultsAll/AMME2E_1stream1static_lazy/fastjlt/BUS\n",
      "/home/heyuhao/AMMBench/build/benchmark/results/results/AMME2E_2stream_eager/countSketch/BUS\n",
      "/home/heyuhao/AMMBench/build/benchmark/results/resultsAll/AMME2E_2stream_eager/countSketch/BUS\n",
      "/home/heyuhao/AMMBench/build/benchmark/results/results/AMME2E_2stream_eager/smp-pca/BUS\n",
      "/home/heyuhao/AMMBench/build/benchmark/results/resultsAll/AMME2E_2stream_eager/smp-pca/BUS\n",
      "/home/heyuhao/AMMBench/build/benchmark/results/results/AMME2E_2stream_eager/crs/BUS\n",
      "/home/heyuhao/AMMBench/build/benchmark/results/resultsAll/AMME2E_2stream_eager/crs/BUS\n",
      "/home/heyuhao/AMMBench/build/benchmark/results/results/AMME2E_2stream_eager/mm/BUS\n",
      "/home/heyuhao/AMMBench/build/benchmark/results/resultsAll/AMME2E_2stream_eager/mm/BUS\n",
      "/home/heyuhao/AMMBench/build/benchmark/results/results/AMME2E_2stream_eager/rip/BUS\n",
      "/home/heyuhao/AMMBench/build/benchmark/results/resultsAll/AMME2E_2stream_eager/rip/BUS\n",
      "/home/heyuhao/AMMBench/build/benchmark/results/results/AMME2E_2stream_eager/weighted-cr/BUS\n",
      "/home/heyuhao/AMMBench/build/benchmark/results/resultsAll/AMME2E_2stream_eager/weighted-cr/BUS\n",
      "/home/heyuhao/AMMBench/build/benchmark/results/results/AMME2E_1stream1static_eager/countSketch/BUS\n",
      "/home/heyuhao/AMMBench/build/benchmark/results/resultsAll/AMME2E_1stream1static_eager/countSketch/BUS\n",
      "/home/heyuhao/AMMBench/build/benchmark/results/results/AMME2E_1stream1static_eager/smp-pca/BUS\n",
      "/home/heyuhao/AMMBench/build/benchmark/results/resultsAll/AMME2E_1stream1static_eager/smp-pca/BUS\n",
      "/home/heyuhao/AMMBench/build/benchmark/results/results/AMME2E_1stream1static_eager/crs/BUS\n",
      "/home/heyuhao/AMMBench/build/benchmark/results/resultsAll/AMME2E_1stream1static_eager/crs/BUS\n",
      "/home/heyuhao/AMMBench/build/benchmark/results/results/AMME2E_1stream1static_eager/mm/BUS\n",
      "/home/heyuhao/AMMBench/build/benchmark/results/resultsAll/AMME2E_1stream1static_eager/mm/BUS\n",
      "/home/heyuhao/AMMBench/build/benchmark/results/results/AMME2E_1stream1static_eager/int8/BUS\n",
      "/home/heyuhao/AMMBench/build/benchmark/results/resultsAll/AMME2E_1stream1static_eager/int8/BUS\n",
      "/home/heyuhao/AMMBench/build/benchmark/results/results/AMME2E_1stream1static_eager/rip/BUS\n",
      "/home/heyuhao/AMMBench/build/benchmark/results/resultsAll/AMME2E_1stream1static_eager/rip/BUS\n",
      "/home/heyuhao/AMMBench/build/benchmark/results/results/AMME2E_1stream1static_eager/weighted-cr/BUS\n",
      "/home/heyuhao/AMMBench/build/benchmark/results/resultsAll/AMME2E_1stream1static_eager/weighted-cr/BUS\n",
      "/home/heyuhao/AMMBench/build/benchmark/results/results/AMME2E_static_lazy/countSketch/BUS\n",
      "/home/heyuhao/AMMBench/build/benchmark/results/resultsAll/AMME2E_static_lazy/countSketch/BUS\n",
      "/home/heyuhao/AMMBench/build/benchmark/results/results/AMME2E_static_lazy/smp-pca/BUS\n",
      "/home/heyuhao/AMMBench/build/benchmark/results/resultsAll/AMME2E_static_lazy/smp-pca/BUS\n",
      "/home/heyuhao/AMMBench/build/benchmark/results/results/AMME2E_static_lazy/crs/BUS\n",
      "/home/heyuhao/AMMBench/build/benchmark/results/resultsAll/AMME2E_static_lazy/crs/BUS\n",
      "/home/heyuhao/AMMBench/build/benchmark/results/results/AMME2E_static_lazy/mm/BUS\n",
      "/home/heyuhao/AMMBench/build/benchmark/results/resultsAll/AMME2E_static_lazy/mm/BUS\n",
      "/home/heyuhao/AMMBench/build/benchmark/results/results/AMME2E_static_lazy/int8/BUS\n",
      "/home/heyuhao/AMMBench/build/benchmark/results/resultsAll/AMME2E_static_lazy/int8/BUS\n",
      "/home/heyuhao/AMMBench/build/benchmark/results/results/AMME2E_static_lazy/rip/BUS\n",
      "/home/heyuhao/AMMBench/build/benchmark/results/resultsAll/AMME2E_static_lazy/rip/BUS\n",
      "/home/heyuhao/AMMBench/build/benchmark/results/results/AMME2E_static_lazy/cooFD/BUS\n",
      "/home/heyuhao/AMMBench/build/benchmark/results/resultsAll/AMME2E_static_lazy/cooFD/BUS\n",
      "/home/heyuhao/AMMBench/build/benchmark/results/results/AMME2E_static_lazy/blockLRA/BUS\n",
      "/home/heyuhao/AMMBench/build/benchmark/results/resultsAll/AMME2E_static_lazy/blockLRA/BUS\n",
      "/home/heyuhao/AMMBench/build/benchmark/results/results/AMME2E_static_lazy/tugOfWar/BUS\n",
      "/home/heyuhao/AMMBench/build/benchmark/results/resultsAll/AMME2E_static_lazy/tugOfWar/BUS\n",
      "/home/heyuhao/AMMBench/build/benchmark/results/results/AMME2E_static_lazy/weighted-cr/BUS\n",
      "/home/heyuhao/AMMBench/build/benchmark/results/resultsAll/AMME2E_static_lazy/weighted-cr/BUS\n",
      "/home/heyuhao/AMMBench/build/benchmark/results/results/AMME2E_static_lazy/fastjlt/BUS\n",
      "/home/heyuhao/AMMBench/build/benchmark/results/resultsAll/AMME2E_static_lazy/fastjlt/BUS\n"
     ]
    }
   ],
   "source": [
    "import shutil\n",
    "\n",
    "for f in folders_in_level:\n",
    "    moveTo = f.replace(\"results/results\", \"results/resultsAll\")\n",
    "    print(f)\n",
    "    print(moveTo)\n",
    "    shutil.copytree(f, moveTo)"
   ]
  }
 ],
 "metadata": {
  "kernelspec": {
   "display_name": "Python 3 (ipykernel)",
   "language": "python",
   "name": "python3"
  },
  "language_info": {
   "codemirror_mode": {
    "name": "ipython",
    "version": 3
   },
   "file_extension": ".py",
   "mimetype": "text/x-python",
   "name": "python",
   "nbconvert_exporter": "python",
   "pygments_lexer": "ipython3",
   "version": "3.10.12"
  }
 },
 "nbformat": 4,
 "nbformat_minor": 2
}
