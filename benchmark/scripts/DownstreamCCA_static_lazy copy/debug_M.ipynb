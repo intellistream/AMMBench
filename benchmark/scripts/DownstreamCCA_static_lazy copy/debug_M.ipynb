{
 "cells": [
  {
   "cell_type": "code",
   "execution_count": 1,
   "metadata": {},
   "outputs": [],
   "source": [
    "\n",
    "import torch\n",
    "import matplotlib.pyplot as plt\n",
    "\n",
    "# %pwd\n",
    "# '/home/yuhao/Documents/work/SUTD/AMM/codespace/LibAMM/build/benchmark/scripts/CCA'\n",
    "\n",
    "torch.ops.load_library(\"../../../libIntelliStream.so\")\n",
    "\n",
    "A = torch.load('A.pt')\n",
    "B = torch.load('B.pt')"
   ]
  },
  {
   "cell_type": "code",
   "execution_count": 2,
   "metadata": {},
   "outputs": [
    {
     "name": "stdout",
     "output_type": "stream",
     "text": [
      "A\n",
      "Mean: 29.814027786254883\n",
      "Standard Deviation: 74.91387176513672\n",
      "Minimum: 0.0\n",
      "Maximum: 255.0\n",
      "B\n",
      "Mean: 36.82281494140625\n",
      "Standard Deviation: 81.90879821777344\n",
      "Minimum: 0.0\n",
      "Maximum: 255.0\n"
     ]
    }
   ],
   "source": [
    "def printStatsOfTensor(tensor, name):\n",
    "    mean = torch.mean(tensor)\n",
    "    std = torch.std(tensor)\n",
    "    min_val = torch.min(tensor)\n",
    "    max_val = torch.max(tensor)\n",
    "    print(name)\n",
    "    print(\"Mean:\", mean.item())\n",
    "    print(\"Standard Deviation:\", std.item())\n",
    "    print(\"Minimum:\", min_val.item())\n",
    "    print(\"Maximum:\", max_val.item())\n",
    "\n",
    "printStatsOfTensor(A, 'A')\n",
    "printStatsOfTensor(B, 'B')"
   ]
  },
  {
   "cell_type": "code",
   "execution_count": 3,
   "metadata": {},
   "outputs": [
    {
     "data": {
      "image/png": "[encoded data removed]",
      "text/plain": [
       "<Figure size 640x480 with 2 Axes>"
      ]
     },
     "metadata": {},
     "output_type": "display_data"
    }
   ],
   "source": [
    "# Reshape the tensor to a 2D tensor\n",
    "image_index=5\n",
    "A_single_image = A[image_index].view(28, 14)\n",
    "B_single_image = B[image_index].view(28, 14)\n",
    "\n",
    "# Plot the image in grayscale\n",
    "fig, axes = plt.subplots(1, 2)\n",
    "\n",
    "# Plot image1\n",
    "axes[0].imshow(A_single_image.numpy(), cmap='gray')\n",
    "axes[0].set_title('A')\n",
    "\n",
    "# Plot image2\n",
    "axes[1].imshow(B_single_image, cmap='gray')\n",
    "axes[1].set_title('B')\n",
    "\n",
    "# Adjust spacing between subplots\n",
    "plt.subplots_adjust(wspace=0.3)\n",
    "\n",
    "plt.show()"
   ]
  },
  {
   "cell_type": "code",
   "execution_count": 4,
   "metadata": {},
   "outputs": [
    {
     "name": "stdout",
     "output_type": "stream",
     "text": [
      "A\n",
      "Mean: -1.5943876974233717e-07\n",
      "Standard Deviation: 64.03339385986328\n",
      "Minimum: -130.37229919433594\n",
      "Maximum: 254.9645538330078\n",
      "B\n",
      "Mean: -8.503401005555133e-08\n",
      "Standard Deviation: 68.1598129272461\n",
      "Minimum: -139.55360412597656\n",
      "Maximum: 254.9786376953125\n"
     ]
    }
   ],
   "source": [
    "A = A - A.mean(0)\n",
    "B = B - B.mean(0)\n",
    "A = A.t()\n",
    "B = B.t()\n",
    "printStatsOfTensor(A, 'A')\n",
    "printStatsOfTensor(B, 'B')"
   ]
  },
  {
   "cell_type": "code",
   "execution_count": 73,
   "metadata": {},
   "outputs": [],
   "source": [
    "# def get_correlation(A, B, tag):\n",
    "\n",
    "#     torch.ops.LibAMM.setTag(tag)\n",
    "\n",
    "#     # Sxx = torch.matmul(A, A.t()) / A.size(1)\n",
    "#     # Syy = torch.matmul(B, B.t()) / A.size(1)\n",
    "#     # Sxy = torch.matmul(A, B.t()) / A.size(1)\n",
    "#     torch.manual_seed(123)\n",
    "#     Sxx = torch.ops.LibAMM.ammDefault(A, A.t()) / A.size(1)\n",
    "#     torch.manual_seed(123)\n",
    "#     Syy = torch.ops.LibAMM.ammDefault(B, B.t()) / A.size(1)\n",
    "#     torch.manual_seed(123)\n",
    "#     Sxy = torch.ops.LibAMM.ammDefault(A, B.t()) / A.size(1)\n",
    "#     printStatsOfTensor(Sxx, 'Sxx')\n",
    "#     printStatsOfTensor(Syy, 'Syy')\n",
    "#     printStatsOfTensor(Sxy, 'Sxy')\n",
    "\n",
    "#     # Sxx^(-1/2), Syy^(-1/2), M\n",
    "#     # Sxx^(-1/2)\n",
    "#     eigenvaluesSxx, eigenvectorsSxx = torch.linalg.eig(Sxx)\n",
    "#     diagonalMatrixSxx = torch.diag(1.0 / torch.sqrt(eigenvaluesSxx + 1e-12))\n",
    "#     SxxNegativeHalf = torch.matmul(torch.matmul(eigenvectorsSxx, diagonalMatrixSxx), eigenvectorsSxx.t())\n",
    "#     SxxNegativeHalf = SxxNegativeHalf.real  # Ignore complex part, if any\n",
    "#     # Syy^(-1/2)\n",
    "#     eigenvaluesSyy, eigenvectorsSyy = torch.linalg.eig(Syy)\n",
    "#     diagonalMatrixSyy = torch.diag(1.0 / torch.sqrt(eigenvaluesSyy + 1e-12))\n",
    "#     SyyNegativeHalf = torch.matmul(torch.matmul(eigenvectorsSyy, diagonalMatrixSyy), eigenvectorsSyy.t())\n",
    "#     SyyNegativeHalf = SyyNegativeHalf.real\n",
    "#     # M\n",
    "#     # M = torch.matmul(SxxNegativeHalf, Sxy)\n",
    "#     # M = torch.matmul(M, SyyNegativeHalf)\n",
    "#     torch.manual_seed(123)\n",
    "#     M = torch.ops.LibAMM.ammDefault(SxxNegativeHalf, Sxy)\n",
    "#     torch.manual_seed(123)\n",
    "#     M = torch.ops.LibAMM.ammDefault(M, SyyNegativeHalf)\n",
    "#     printStatsOfTensor(M, 'M')\n",
    "\n",
    "#     # correlation\n",
    "#     U, S, Vh = torch.linalg.svd(M, False)\n",
    "#     printStatsOfTensor(S, 'S')\n",
    "\n",
    "#     S = torch.clamp(S, min=-1.0, max=1.0)\n",
    "#     return S\n",
    "\n",
    "def get_correlation(A, B, tag, ss):\n",
    "\n",
    "    torch.ops.LibAMM.setTag(tag)\n",
    "\n",
    "    torch.manual_seed(123)\n",
    "    Sxx = torch.ops.LibAMM.ammSpecifySs(A, A.t(), ss) / A.size(1)\n",
    "    torch.manual_seed(123)\n",
    "    Syy = torch.ops.LibAMM.ammSpecifySs(B, B.t(), ss) / A.size(1)\n",
    "    torch.manual_seed(123)\n",
    "    Sxy = torch.ops.LibAMM.ammSpecifySs(A, B.t(), ss) / A.size(1)\n",
    "    printStatsOfTensor(Sxx, 'Sxx')\n",
    "    printStatsOfTensor(Syy, 'Syy')\n",
    "    printStatsOfTensor(Sxy, 'Sxy')\n",
    "\n",
    "    # Sxx^(-1/2), Syy^(-1/2), M\n",
    "    # Sxx^(-1/2)\n",
    "    eigenvaluesSxx, eigenvectorsSxx = torch.linalg.eig(Sxx)\n",
    "    diagonalMatrixSxx = torch.diag(1.0 / torch.sqrt(eigenvaluesSxx + 1e-12))\n",
    "    SxxNegativeHalf = torch.matmul(torch.matmul(eigenvectorsSxx, diagonalMatrixSxx), eigenvectorsSxx.t())\n",
    "    SxxNegativeHalf = SxxNegativeHalf.real  # Ignore complex part, if any\n",
    "    # Syy^(-1/2)\n",
    "    eigenvaluesSyy, eigenvectorsSyy = torch.linalg.eig(Syy)\n",
    "    diagonalMatrixSyy = torch.diag(1.0 / torch.sqrt(eigenvaluesSyy + 1e-12))\n",
    "    SyyNegativeHalf = torch.matmul(torch.matmul(eigenvectorsSyy, diagonalMatrixSyy), eigenvectorsSyy.t())\n",
    "    SyyNegativeHalf = SyyNegativeHalf.real\n",
    "    # M\n",
    "    M = torch.matmul(SxxNegativeHalf, Sxy)\n",
    "    M = torch.matmul(M, SyyNegativeHalf)\n",
    "    printStatsOfTensor(M, 'M')\n",
    "\n",
    "    # correlation\n",
    "    U, S, Vh = torch.linalg.svd(M, False)\n",
    "    printStatsOfTensor(S, 'S')\n",
    "\n",
    "    S = torch.clamp(S, min=-1.0, max=1.0)\n",
    "    return S"
   ]
  },
  {
   "cell_type": "code",
   "execution_count": 88,
   "metadata": {},
   "outputs": [
    {
     "name": "stdout",
     "output_type": "stream",
     "text": [
      "Sxx\n",
      "Mean: 131.5745849609375\n",
      "Standard Deviation: 903.1205444335938\n",
      "Minimum: -3912.50537109375\n",
      "Maximum: 12752.3505859375\n",
      "Syy\n",
      "Mean: 135.45680236816406\n",
      "Standard Deviation: 960.02587890625\n",
      "Minimum: -5121.08544921875\n",
      "Maximum: 12953.3994140625\n",
      "Sxy\n",
      "Mean: 110.29679107666016\n",
      "Standard Deviation: 589.449462890625\n",
      "Minimum: -5307.15380859375\n",
      "Maximum: 10653.111328125\n",
      "M\n",
      "Mean: 0.0010679035913199186\n",
      "Standard Deviation: 0.012338140048086643\n",
      "Minimum: -0.5831437706947327\n",
      "Maximum: 0.7997881174087524\n",
      "S\n",
      "Mean: 0.13405658304691315\n",
      "Standard Deviation: 0.20556588470935822\n",
      "Minimum: 2.448219760253778e-08\n",
      "Maximum: 1.0031112432479858\n"
     ]
    }
   ],
   "source": [
    "S_MM = get_correlation(A, B, 'mm', 10)"
   ]
  },
  {
   "cell_type": "code",
   "execution_count": 89,
   "metadata": {},
   "outputs": [
    {
     "name": "stdout",
     "output_type": "stream",
     "text": [
      "Sxx\n",
      "Mean: nan\n",
      "Standard Deviation: nan\n",
      "Minimum: nan\n",
      "Maximum: nan\n",
      "Syy\n",
      "Mean: nan\n",
      "Standard Deviation: nan\n",
      "Minimum: nan\n",
      "Maximum: nan\n",
      "Sxy\n",
      "Mean: nan\n",
      "Standard Deviation: nan\n",
      "Minimum: nan\n",
      "Maximum: nan\n"
     ]
    },
    {
     "ename": "RuntimeError",
     "evalue": "torch.linalg.eig: input tensor should not contain infs or NaNs.",
     "output_type": "error",
     "traceback": [
      "\u001b[0;31m---------------------------------------------------------------------------\u001b[0m",
      "\u001b[0;31mRuntimeError\u001b[0m                              Traceback (most recent call last)",
      "Cell \u001b[0;32mIn[89], line 1\u001b[0m\n\u001b[0;32m----> 1\u001b[0m S_CRS \u001b[39m=\u001b[39m get_correlation(A, B, \u001b[39m'\u001b[39;49m\u001b[39msmp-pca\u001b[39;49m\u001b[39m'\u001b[39;49m, \u001b[39m6000\u001b[39;49m)\n",
      "Cell \u001b[0;32mIn[73], line 61\u001b[0m, in \u001b[0;36mget_correlation\u001b[0;34m(A, B, tag, ss)\u001b[0m\n\u001b[1;32m     57\u001b[0m printStatsOfTensor(Sxy, \u001b[39m'\u001b[39m\u001b[39mSxy\u001b[39m\u001b[39m'\u001b[39m)\n\u001b[1;32m     59\u001b[0m \u001b[39m# Sxx^(-1/2), Syy^(-1/2), M\u001b[39;00m\n\u001b[1;32m     60\u001b[0m \u001b[39m# Sxx^(-1/2)\u001b[39;00m\n\u001b[0;32m---> 61\u001b[0m eigenvaluesSxx, eigenvectorsSxx \u001b[39m=\u001b[39m torch\u001b[39m.\u001b[39;49mlinalg\u001b[39m.\u001b[39;49meig(Sxx)\n\u001b[1;32m     62\u001b[0m diagonalMatrixSxx \u001b[39m=\u001b[39m torch\u001b[39m.\u001b[39mdiag(\u001b[39m1.0\u001b[39m \u001b[39m/\u001b[39m torch\u001b[39m.\u001b[39msqrt(eigenvaluesSxx \u001b[39m+\u001b[39m \u001b[39m1e-12\u001b[39m))\n\u001b[1;32m     63\u001b[0m SxxNegativeHalf \u001b[39m=\u001b[39m torch\u001b[39m.\u001b[39mmatmul(torch\u001b[39m.\u001b[39mmatmul(eigenvectorsSxx, diagonalMatrixSxx), eigenvectorsSxx\u001b[39m.\u001b[39mt())\n",
      "\u001b[0;31mRuntimeError\u001b[0m: torch.linalg.eig: input tensor should not contain infs or NaNs."
     ]
    }
   ],
   "source": [
    "S_CRS = get_correlation(A, B, 'smp-pca', 6000)"
   ]
  },
  {
   "cell_type": "code",
   "execution_count": null,
   "metadata": {},
   "outputs": [],
   "source": [
    "S = torch.clamp(S, min=-1.0, max=1.0)\n",
    "(S_MM-S_CRS).abs().max()"
   ]
  },
  {
   "cell_type": "code",
   "execution_count": null,
   "metadata": {},
   "outputs": [
    {
     "data": {
      "text/plain": [
       "tensor(0.1020)"
      ]
     },
     "execution_count": 87,
     "metadata": {},
     "output_type": "execute_result"
    }
   ],
   "source": [
    "(S_MM-S_CRS).abs().max()"
   ]
  },
  {
   "cell_type": "code",
   "execution_count": 80,
   "metadata": {},
   "outputs": [
    {
     "data": {
      "image/png": "[encoded data removed]",
      "text/plain": [
       "<Figure size 640x480 with 1 Axes>"
      ]
     },
     "metadata": {},
     "output_type": "display_data"
    }
   ],
   "source": [
    "# Generate the x-axis values\n",
    "x_values = torch.arange(1, len(S_MM) + 1)\n",
    "\n",
    "# Plot the tensor values\n",
    "plt.plot(x_values, S_MM, color='blue', label='MM')\n",
    "\n",
    "# Set labels and title\n",
    "plt.xlabel('Index')\n",
    "plt.ylabel('Values')\n",
    "plt.title('Tensors Plot')\n",
    "\n",
    "# Add a legend\n",
    "plt.legend()\n",
    "\n",
    "# Display the plot\n",
    "plt.show()"
   ]
  },
  {
   "cell_type": "code",
   "execution_count": null,
   "metadata": {},
   "outputs": [
    {
     "data": {
      "image/png": "[encoded data removed]",
      "text/plain": [
       "<Figure size 640x480 with 1 Axes>"
      ]
     },
     "metadata": {},
     "output_type": "display_data"
    }
   ],
   "source": [
    "# Generate the x-axis values\n",
    "x_values = torch.arange(1, len(S_CRS) + 1)\n",
    "\n",
    "# Plot the tensor values\n",
    "plt.plot(x_values, S_CRS-S_MM, color='cyan', label='MM')\n",
    "\n",
    "# Set labels and title\n",
    "plt.xlabel('Index')\n",
    "plt.ylabel('Values')\n",
    "plt.title('Tensors Plot')\n",
    "\n",
    "# Add a legend\n",
    "plt.legend()\n",
    "\n",
    "# Display the plot\n",
    "plt.show()"
   ]
  },
  {
   "cell_type": "code",
   "execution_count": null,
   "metadata": {},
   "outputs": [],
   "source": []
  },
  {
   "cell_type": "code",
   "execution_count": null,
   "metadata": {},
   "outputs": [],
   "source": []
  },
  {
   "cell_type": "code",
   "execution_count": null,
   "metadata": {},
   "outputs": [],
   "source": []
  },
  {
   "cell_type": "code",
   "execution_count": null,
   "metadata": {},
   "outputs": [],
   "source": []
  },
  {
   "cell_type": "code",
   "execution_count": null,
   "metadata": {},
   "outputs": [],
   "source": []
  },
  {
   "cell_type": "code",
   "execution_count": null,
   "metadata": {},
   "outputs": [],
   "source": []
  },
  {
   "cell_type": "code",
   "execution_count": null,
   "metadata": {},
   "outputs": [],
   "source": []
  },
  {
   "cell_type": "code",
   "execution_count": null,
   "metadata": {},
   "outputs": [],
   "source": []
  },
  {
   "cell_type": "code",
   "execution_count": null,
   "metadata": {},
   "outputs": [],
   "source": []
  }
 ],
 "metadata": {
  "kernelspec": {
   "display_name": "Python 3",
   "language": "python",
   "name": "python3"
  },
  "language_info": {
   "codemirror_mode": {
    "name": "ipython",
    "version": 3
   },
   "file_extension": ".py",
   "mimetype": "text/x-python",
   "name": "python",
   "nbconvert_exporter": "python",
   "pygments_lexer": "ipython3",
   "version": "3.10.6"
  },
  "orig_nbformat": 4
 },
 "nbformat": 4,
 "nbformat_minor": 2
}
