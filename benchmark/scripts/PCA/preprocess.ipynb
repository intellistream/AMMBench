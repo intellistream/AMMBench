{
 "cells": [
  {
   "cell_type": "code",
   "execution_count": 6,
   "metadata": {},
   "outputs": [],
   "source": [
    "import glob\n",
    "import sys\n",
    "sys.path.append('/home/yuhao/Documents/work/SUTD/AMM/codespace/AMMBench/benchmark/scripts/PCA/scanSketchSize_SIFT')\n",
    "from OoOCommon import *"
   ]
  },
  {
   "cell_type": "markdown",
   "metadata": {},
   "source": [
    "### Change aRow, aCol, bCol in config file"
   ]
  },
  {
   "cell_type": "code",
   "execution_count": 11,
   "metadata": {},
   "outputs": [],
   "source": [
    "for csv in glob.glob('/home/yuhao/Documents/work/SUTD/AMM/codespace/AMMBench/benchmark/scripts/PCA/scanSketchSize_100000*1000*100000/config*.csv'):\n",
    "    aRow = csv.split('/')[-2].split('_')[1].split('*')[0]\n",
    "    aCol = csv.split('/')[-2].split('_')[1].split('*')[1]\n",
    "    bCol = csv.split('/')[-2].split('_')[1].split('*')[2]\n",
    "    editConfig(csv, csv, 'aRow', aRow)\n",
    "    editConfig(csv, csv, 'aCol', aCol)\n",
    "    editConfig(csv, csv, 'bCol', bCol)"
   ]
  },
  {
   "cell_type": "code",
   "execution_count": null,
   "metadata": {},
   "outputs": [],
   "source": []
  },
  {
   "cell_type": "code",
   "execution_count": null,
   "metadata": {},
   "outputs": [],
   "source": []
  }
 ],
 "metadata": {
  "kernelspec": {
   "display_name": "Python 3 (ipykernel)",
   "language": "python",
   "name": "python3"
  },
  "language_info": {
   "codemirror_mode": {
    "name": "ipython",
    "version": 3
   },
   "file_extension": ".py",
   "mimetype": "text/x-python",
   "name": "python",
   "nbconvert_exporter": "python",
   "pygments_lexer": "ipython3",
   "version": "3.10.6"
  }
 },
 "nbformat": 4,
 "nbformat_minor": 2
}
