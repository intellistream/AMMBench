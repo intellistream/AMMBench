{
 "cells": [
  {
   "cell_type": "markdown",
   "metadata": {},
   "source": [
    "We have opened the python call to AbstractCPPAlgo and AbstractMatrixLoader. They are totally the same as C++ classes.\n",
    "The following is a more advanced python API version, which exactly matehes with c++, you should enable -DENABLE_PYBIND=ON before compile"
   ]
  },
  {
   "cell_type": "code",
   "execution_count": 1,
   "metadata": {},
   "outputs": [],
   "source": [
    "import sys\n",
    "#Assuming you have PyAMMxxx.so at ../../../\n",
    "sys.path.append('../../../')\n",
    "import torch\n",
    "import PyAMM as amm"
   ]
  },
  {
   "cell_type": "markdown",
   "metadata": {},
   "source": [
    "1. Creat an AMM algo instance by name tag"
   ]
  },
  {
   "cell_type": "code",
   "execution_count": 2,
   "metadata": {},
   "outputs": [],
   "source": [
    "crs = amm.createAMM('crs')"
   ]
  },
  {
   "cell_type": "markdown",
   "metadata": {},
   "source": [
    "2. Config it"
   ]
  },
  {
   "cell_type": "code",
   "execution_count": 10,
   "metadata": {},
   "outputs": [],
   "source": [
    "cfg={'aRow':4,'aCol':4,'bCol':4}\n",
    "crs.setConfig(amm.dictToConfigMap(cfg))"
   ]
  },
  {
   "cell_type": "markdown",
   "metadata": {},
   "source": [
    "3.Run the AMM! Please note the amm function is totally the same as c++ API"
   ]
  },
  {
   "cell_type": "code",
   "execution_count": 6,
   "metadata": {},
   "outputs": [
    {
     "name": "stdout",
     "output_type": "stream",
     "text": [
      "mm tensor([[1.6709, 1.3179, 1.3306, 1.8846],\n",
      "        [1.0984, 0.8756, 1.1392, 1.4321],\n",
      "        [0.9124, 0.5721, 0.6871, 1.2459],\n",
      "        [1.6398, 1.3345, 1.3788, 1.8421]])\n",
      "amm tensor([[1.6547, 1.7282, 1.4248, 1.4118],\n",
      "        [1.0786, 1.0660, 1.1224, 1.1858],\n",
      "        [1.1610, 1.1307, 1.2616, 1.3497],\n",
      "        [1.6187, 1.6887, 1.4001, 1.3896]])\n"
     ]
    }
   ],
   "source": [
    "a = torch.rand(4,4)\n",
    "mmRu = torch.matmul(a,a)\n",
    "ammRu = crs.amm(a,a,3)\n",
    "print('mm',mmRu)\n",
    "print('amm',ammRu)"
   ]
  },
  {
   "cell_type": "markdown",
   "metadata": {},
   "source": [
    "4. If you also want to use the dataloader"
   ]
  },
  {
   "cell_type": "code",
   "execution_count": 12,
   "metadata": {},
   "outputs": [
    {
     "name": "stdout",
     "output_type": "stream",
     "text": [
      "INFO:Fri Aug 30 16:11:00 2024:/home/tony/projects/LibAMM/src/MatrixLoader/RandomMatrixLoader.cpp:13|void LibAMM::RandomMatrixLoader::paraseConfig(INTELLI::ConfigMapPtr)|\u001b[34mGenerating [100x1000]*[1000x500]\u001b[0m\n"
     ]
    },
    {
     "data": {
      "text/plain": [
       "True"
      ]
     },
     "execution_count": 12,
     "metadata": {},
     "output_type": "execute_result"
    }
   ],
   "source": [
    "dataLoader = amm.createMatrixLoader('random')\n",
    "cfg={'aRow':4,'aCol':4,'bCol':4}\n",
    "dataLoader.setConfig(amm.dictToConfigMap(cfg))\n",
    "print(dataLoader.getA())\n",
    "print(dataLoader.getB())"
   ]
  }
 ],
 "metadata": {
  "kernelspec": {
   "display_name": "Python 3",
   "language": "python",
   "name": "python3"
  },
  "language_info": {
   "codemirror_mode": {
    "name": "ipython",
    "version": 3
   },
   "file_extension": ".py",
   "mimetype": "text/x-python",
   "name": "python",
   "nbconvert_exporter": "python",
   "pygments_lexer": "ipython3",
   "version": "3.10.12"
  }
 },
 "nbformat": 4,
 "nbformat_minor": 2
}
