{
 "cells": [
  {
   "cell_type": "markdown",
   "metadata": {},
   "source": [
    "We have opened the python call to AbstractCPPAlgo and AbstractMatrixLoader. They are totally the same as C++ classes.\n",
    "The following is a more advanced python API version, which exactly matehes with c++, you should enable -DENABLE_PYBIND=ON before compile"
   ]
  },
  {
   "cell_type": "code",
   "execution_count": 1,
   "metadata": {},
   "outputs": [],
   "source": [
    "import sys\n",
    "#Assuming you have PyAMMxxx.so at ../../../\n",
    "sys.path.append('../../../')\n",
    "import torch\n",
    "import PyAMM as amm"
   ]
  },
  {
   "cell_type": "markdown",
   "metadata": {},
   "source": [
    "1. Creat an AMM algo instance by name tag"
   ]
  },
  {
   "cell_type": "code",
   "execution_count": 2,
   "metadata": {},
   "outputs": [],
   "source": [
    "crs = amm.createAMM('crs')"
   ]
  },
  {
   "cell_type": "markdown",
   "metadata": {},
   "source": [
    "2. Config it"
   ]
  },
  {
   "cell_type": "code",
   "execution_count": 3,
   "metadata": {},
   "outputs": [
    {
     "name": "stdout",
     "output_type": "stream",
     "text": [
      "Key: aRow has an int value.\n",
      "Key: aCol has an int value.\n",
      "Key: bCol has an int value.\n"
     ]
    }
   ],
   "source": [
    "cfg={'aRow':4,'aCol':4,'bCol':4}\n",
    "crs.setConfig(amm.dictToConfigMap(cfg))"
   ]
  },
  {
   "cell_type": "markdown",
   "metadata": {},
   "source": [
    "3.Run the AMM! Please note the amm function is totally the same as c++ API"
   ]
  },
  {
   "cell_type": "code",
   "execution_count": 21,
   "metadata": {},
   "outputs": [
    {
     "name": "stdout",
     "output_type": "stream",
     "text": [
      "mm tensor([[0.8143, 0.8297, 0.9676, 0.7764],\n",
      "        [1.3124, 1.1317, 1.1317, 0.6309],\n",
      "        [0.4265, 0.5009, 0.6175, 0.3295],\n",
      "        [0.7170, 1.1462, 1.1633, 0.5958]])\n",
      "amm tensor([[0.8592, 0.8290, 0.9635, 1.0297],\n",
      "        [1.0143, 0.6088, 0.4488, 0.8233],\n",
      "        [0.3133, 0.3552, 0.4551, 0.4331],\n",
      "        [0.3811, 0.8246, 0.7222, 0.7805]])\n"
     ]
    }
   ],
   "source": [
    "a = torch.rand(4,4)\n",
    "mmRu = torch.matmul(a,a)\n",
    "ammRu = crs.amm(a,a,3)\n",
    "print('mm',mmRu)\n",
    "print('amm',ammRu)"
   ]
  },
  {
   "cell_type": "markdown",
   "metadata": {},
   "source": [
    "4. If you also want to use the dataloader"
   ]
  },
  {
   "cell_type": "code",
   "execution_count": 2,
   "metadata": {},
   "outputs": [
    {
     "name": "stdout",
     "output_type": "stream",
     "text": [
      "INFO:Fri Aug 30 16:59:27 2024:/home/tony/projects/LibAMM/src/MatrixLoader/RandomMatrixLoader.cpp:13|void LibAMM::RandomMatrixLoader::paraseConfig(INTELLI::ConfigMapPtr)|\u001b[34mGenerating [4x4]*[4x4]\u001b[0m\n",
      "tensor([[0.0655, 0.5419, 0.1003, 0.8882],\n",
      "        [0.2125, 0.0748, 0.4563, 0.5268],\n",
      "        [0.8240, 0.3057, 0.2584, 0.7614],\n",
      "        [0.7337, 0.8426, 0.5254, 0.1192]])\n",
      "tensor([[0.8150, 0.5552, 0.0720, 0.7763],\n",
      "        [0.5997, 0.6236, 0.8828, 0.8254],\n",
      "        [0.4195, 0.6911, 0.8054, 0.8969],\n",
      "        [0.1099, 0.9399, 0.9385, 0.7910]])\n"
     ]
    }
   ],
   "source": [
    "dataLoader = amm.createMatrixLoader('random')\n",
    "cfg={'aRow':4,'aCol':4,'bCol':4}\n",
    "dataLoader.setConfig(amm.dictToConfigMap(cfg))\n",
    "print(dataLoader.getA())\n",
    "print(dataLoader.getB())"
   ]
  }
 ],
 "metadata": {
  "kernelspec": {
   "display_name": "Python 3",
   "language": "python",
   "name": "python3"
  },
  "language_info": {
   "codemirror_mode": {
    "name": "ipython",
    "version": 3
   },
   "file_extension": ".py",
   "mimetype": "text/x-python",
   "name": "python",
   "nbconvert_exporter": "python",
   "pygments_lexer": "ipython3",
   "version": "3.10.12"
  }
 },
 "nbformat": 4,
 "nbformat_minor": 2
}
